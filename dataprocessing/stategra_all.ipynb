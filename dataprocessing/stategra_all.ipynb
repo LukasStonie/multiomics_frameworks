{
 "cells": [
  {
   "cell_type": "code",
   "execution_count": 16,
   "id": "initial_id",
   "metadata": {
    "ExecuteTime": {
     "end_time": "2025-05-22T09:03:12.817151Z",
     "start_time": "2025-05-22T09:03:11.024036Z"
    },
    "collapsed": true
   },
   "outputs": [],
   "source": [
    "import pandas as pd\n",
    "import seaborn as sns\n",
    "import matplotlib.pyplot as plt\n",
    "\n",
    "import os\n",
    "import warnings\n",
    "warnings.filterwarnings(\"ignore\")"
   ]
  },
  {
   "cell_type": "markdown",
   "id": "0a9abcf5",
   "metadata": {},
   "source": [
    "# Process datasets"
   ]
  },
  {
   "cell_type": "markdown",
   "id": "26af85d7",
   "metadata": {},
   "source": [
    "## Define code to handle differences in omics datasets"
   ]
  },
  {
   "cell_type": "markdown",
   "id": "ccd9545b",
   "metadata": {},
   "source": [
    "### General"
   ]
  },
  {
   "cell_type": "code",
   "execution_count": 17,
   "id": "b18a8f4c",
   "metadata": {},
   "outputs": [],
   "source": [
    "EARLY_THRESHOLD = 6\n",
    "\n",
    "def select_feature_above_variance(data:pd.DataFrame, variance_threshold=1) -> list:\n",
    "    accept = []\n",
    "    for c in data.columns:\n",
    "        c_var = data[c].var()\n",
    "        if c_var < variance_threshold:\n",
    "            #print(f\"{c} - {c_var}<{variance_threshold}\")\n",
    "            continue\n",
    "        else:\n",
    "            accept.append(c)\n",
    "    return accept\n",
    "\n",
    "def parse_group(index):\n",
    "    return str(index).split(\"_\")[0]\n",
    "\n",
    "def parse_time(index):\n",
    "    return int(str(index).split(\"_\")[1][0:-1])\n",
    "\n",
    "def parse_time_class(index):\n",
    "    group = parse_group(index)\n",
    "    time = parse_time(index)\n",
    "\n",
    "    return f\"{group}_early\" if time <=6 else f\"{group}_late\""
   ]
  },
  {
   "cell_type": "markdown",
   "id": "f488a1df",
   "metadata": {},
   "source": [
    "### Column name transformers"
   ]
  },
  {
   "cell_type": "code",
   "execution_count": 18,
   "id": "0b8b685a",
   "metadata": {},
   "outputs": [],
   "source": [
    "# transformer for proteomics sample names\n",
    "def prot_sample_name_transformer(columns:list) -> list:\n",
    "    col_new = []\n",
    "    count_dict = {}\n",
    "    for c in columns:\n",
    "        base = \"_\".join(str(c).lower().split(\"_\")[0:-1])\n",
    "        if base in count_dict:\n",
    "            # in counting dictionary\n",
    "            count_dict[base] += 1\n",
    "        else:\n",
    "            # not in counting dictionary\n",
    "            count_dict[base] = 1\n",
    "        col_new.append(f\"{base}_{count_dict[base]}\")\n",
    "        \n",
    "    return col_new\n",
    "\n",
    "# transformer for metabolomics sample names\n",
    "def met_sample_name_transformer(columns:list) -> list:\n",
    "    col_new = []\n",
    "    count_dict = {}\n",
    "    for c in columns:\n",
    "        parts = str(c).lower().split(\"_\")\n",
    "        group = \"con\" if parts[0]==\"control\" else \"ika\"\n",
    "        base = group + \"_\"+parts[1]+\"h\"\n",
    "        if base in count_dict:\n",
    "            # in counting dictionary\n",
    "            count_dict[base] += 1\n",
    "        else:\n",
    "            # not in counting dictionary\n",
    "            count_dict[base] = 1\n",
    "        col_new.append(f\"{base}_{count_dict[base]}\")\n",
    "        \n",
    "    return col_new\n",
    "\n",
    "# transformer for transcriptomics sample names\n",
    "def trans_sample_name_transformer(columns:list) -> list:\n",
    "    col_new = []\n",
    "    count_dict = {}\n",
    "    for c in columns:\n",
    "        parts = str(c).lower().split(\"_\")\n",
    "        group = \"con\" if parts[2]==\"ctr\" else \"ika\"\n",
    "        base = group + \"_\"+parts[3]\n",
    "        if base in count_dict:\n",
    "            # in counting dictionary\n",
    "            count_dict[base] += 1\n",
    "        else:\n",
    "            # not in counting dictionary\n",
    "            count_dict[base] = 1\n",
    "        col_new.append(f\"{base}_{count_dict[base]}\")\n",
    "        \n",
    "    return col_new"
   ]
  },
  {
   "cell_type": "markdown",
   "id": "3d4b0eaf",
   "metadata": {},
   "source": [
    "### Create necessary directories"
   ]
  },
  {
   "cell_type": "code",
   "execution_count": 19,
   "id": "630b6d05",
   "metadata": {},
   "outputs": [],
   "source": [
    "os.makedirs(\"../datasets/STATegra/export\", exist_ok=True)"
   ]
  },
  {
   "cell_type": "markdown",
   "id": "07773ce5",
   "metadata": {},
   "source": [
    "## Process proteomics"
   ]
  },
  {
   "cell_type": "code",
   "execution_count": 20,
   "id": "3068ddec",
   "metadata": {},
   "outputs": [],
   "source": [
    "# read data\n",
    "data = pd.read_csv(\"../datasets/STATegra/Script_STATegra_proteomics/STATegra_Proteomics_imputed_no_missings_tmm.txt\", sep=\"\\t\")\n",
    "\n",
    "# rename columns to unify batch identifier\n",
    "data.columns = prot_sample_name_transformer(data.columns)\n",
    "\n",
    "# transpose matrix\n",
    "data_t = data.T\n",
    "\n",
    "# add target columns based on index\n",
    "data_t[\"group\"] = data_t.index.map(parse_group)\n",
    "data_t[\"time\"] = data_t.index.map(parse_time)\n",
    "data_t[\"time_class\"] = data_t.index.map(parse_time_class)\n",
    "\n",
    "# sort data\n",
    "data_t = data_t.sort_values(by=['group', 'time'])\n",
    "\n",
    "# split processed data in to features and target and export\n",
    "\n",
    "data_features = data_t.iloc[:, 0:-3]\n",
    "\n",
    "data_features.to_csv(\"../datasets/STATegra/export/proteomics.csv\")\n",
    "prot_targets = data_t.iloc[:,-3:]\n"
   ]
  },
  {
   "cell_type": "markdown",
   "id": "9be73619",
   "metadata": {},
   "source": [
    "## Process metabolomics"
   ]
  },
  {
   "cell_type": "code",
   "execution_count": 21,
   "id": "d9c0021a",
   "metadata": {},
   "outputs": [],
   "source": [
    "# read data\n",
    "data = pd.read_csv(\"../datasets/STATegra/Script_STATegra_Metabolomics/Metabolomics_fused_log_mean_2019.txt\", sep=\"\\t\")\n",
    "data.index = data['Metabolite']\n",
    "data.drop(['Metabolite'], axis=1, inplace=True)\n",
    "\n",
    "# rename columns to unify batch identifier\n",
    "data.columns = met_sample_name_transformer(data.columns)\n",
    "\n",
    "# transpose matrix\n",
    "data_t = data.T\n",
    "\n",
    "# add target columns based on index\n",
    "data_t[\"group\"] = data_t.index.map(parse_group)\n",
    "data_t[\"time\"] = data_t.index.map(parse_time)\n",
    "data_t[\"time_class\"] = data_t.index.map(parse_time_class)\n",
    "\n",
    "# sort data\n",
    "data_t = data_t.sort_values(by=['group', 'time'])\n",
    "\n",
    "# split processed data in to features and target and export\n",
    "\n",
    "data_features = data_t.iloc[:, 0:-3]\n",
    "\n",
    "data_features.to_csv(\"../datasets/STATegra/export/metabolomics.csv\")\n",
    "met_targets = data_t.iloc[:,-3:]\n"
   ]
  },
  {
   "cell_type": "markdown",
   "id": "c83c49f8",
   "metadata": {},
   "source": [
    "## Process transcriptomics"
   ]
  },
  {
   "cell_type": "code",
   "execution_count": 22,
   "id": "d0f9c668",
   "metadata": {},
   "outputs": [],
   "source": [
    "# read data\n",
    "data = pd.read_csv(\"../datasets/STATegra/Script_STATegra_RNAseq/RNA_seq/STATegra.RNAseq.CQN.Combat.Annotated.positive_2014_09.csv\", sep=\",\")\n",
    "data.rename(columns={'Unnamed: 0': 'Transcript'}, inplace=True)\n",
    "data.index = data['Transcript']\n",
    "data.drop(['Transcript'],axis=1, inplace=True)\n",
    "\n",
    "# rename columns to unify batch identifier\n",
    "data.columns = trans_sample_name_transformer(data.columns)\n",
    "\n",
    "# transpose matrix\n",
    "data_t = data.T\n",
    "\n",
    "# add target columns based on index\n",
    "data_t[\"group\"] = data_t.index.map(parse_group)\n",
    "data_t[\"time\"] = data_t.index.map(parse_time)\n",
    "data_t[\"time_class\"] = data_t.index.map(parse_time_class)\n",
    "\n",
    "# sort data\n",
    "data_t = data_t.sort_values(by=['group', 'time'])\n",
    "\n",
    "# split processed data in to features and target and export\n",
    "\n",
    "data_features = data_t.iloc[:, 0:-3]\n",
    "\n",
    "data_features.to_csv(\"../datasets/STATegra/export/transcriptomics.csv\")\n",
    "trans_targets = data_t.iloc[:,-3:]\n"
   ]
  },
  {
   "cell_type": "markdown",
   "id": "16f80f78",
   "metadata": {},
   "source": [
    "## Compare targets of each omics dataset\n",
    "Check if the samples in each exported omics dataset are in the same order"
   ]
  },
  {
   "cell_type": "code",
   "execution_count": 23,
   "id": "f3de4b7d",
   "metadata": {},
   "outputs": [
    {
     "data": {
      "application/vnd.microsoft.datawrangler.viewer.v0+json": {
       "columns": [
        {
         "name": "index",
         "rawType": "object",
         "type": "string"
        }
       ],
       "ref": "edcfe8ef-12c5-47a6-b83d-c50e23e89f28",
       "rows": [],
       "shape": {
        "columns": 0,
        "rows": 0
       }
      },
      "text/html": [
       "<div>\n",
       "<style scoped>\n",
       "    .dataframe tbody tr th:only-of-type {\n",
       "        vertical-align: middle;\n",
       "    }\n",
       "\n",
       "    .dataframe tbody tr th {\n",
       "        vertical-align: top;\n",
       "    }\n",
       "\n",
       "    .dataframe thead tr th {\n",
       "        text-align: left;\n",
       "    }\n",
       "</style>\n",
       "<table border=\"1\" class=\"dataframe\">\n",
       "  <thead>\n",
       "  </thead>\n",
       "  <tbody>\n",
       "  </tbody>\n",
       "</table>\n",
       "</div>"
      ],
      "text/plain": [
       "Empty DataFrame\n",
       "Columns: []\n",
       "Index: []"
      ]
     },
     "execution_count": 23,
     "metadata": {},
     "output_type": "execute_result"
    }
   ],
   "source": [
    "prot_targets.compare(met_targets)"
   ]
  },
  {
   "cell_type": "code",
   "execution_count": 24,
   "id": "d376eb37",
   "metadata": {},
   "outputs": [
    {
     "data": {
      "application/vnd.microsoft.datawrangler.viewer.v0+json": {
       "columns": [
        {
         "name": "index",
         "rawType": "object",
         "type": "string"
        }
       ],
       "ref": "e0604aa3-a842-4cc7-8ea0-bd98361b613c",
       "rows": [],
       "shape": {
        "columns": 0,
        "rows": 0
       }
      },
      "text/html": [
       "<div>\n",
       "<style scoped>\n",
       "    .dataframe tbody tr th:only-of-type {\n",
       "        vertical-align: middle;\n",
       "    }\n",
       "\n",
       "    .dataframe tbody tr th {\n",
       "        vertical-align: top;\n",
       "    }\n",
       "\n",
       "    .dataframe thead tr th {\n",
       "        text-align: left;\n",
       "    }\n",
       "</style>\n",
       "<table border=\"1\" class=\"dataframe\">\n",
       "  <thead>\n",
       "  </thead>\n",
       "  <tbody>\n",
       "  </tbody>\n",
       "</table>\n",
       "</div>"
      ],
      "text/plain": [
       "Empty DataFrame\n",
       "Columns: []\n",
       "Index: []"
      ]
     },
     "execution_count": 24,
     "metadata": {},
     "output_type": "execute_result"
    }
   ],
   "source": [
    "prot_targets.compare(trans_targets)"
   ]
  },
  {
   "cell_type": "code",
   "execution_count": 25,
   "id": "2d0d5192",
   "metadata": {},
   "outputs": [
    {
     "data": {
      "application/vnd.microsoft.datawrangler.viewer.v0+json": {
       "columns": [
        {
         "name": "index",
         "rawType": "object",
         "type": "string"
        }
       ],
       "ref": "ae28b9e6-96c2-4ff5-a522-a9e968ed0f0a",
       "rows": [],
       "shape": {
        "columns": 0,
        "rows": 0
       }
      },
      "text/html": [
       "<div>\n",
       "<style scoped>\n",
       "    .dataframe tbody tr th:only-of-type {\n",
       "        vertical-align: middle;\n",
       "    }\n",
       "\n",
       "    .dataframe tbody tr th {\n",
       "        vertical-align: top;\n",
       "    }\n",
       "\n",
       "    .dataframe thead tr th {\n",
       "        text-align: left;\n",
       "    }\n",
       "</style>\n",
       "<table border=\"1\" class=\"dataframe\">\n",
       "  <thead>\n",
       "  </thead>\n",
       "  <tbody>\n",
       "  </tbody>\n",
       "</table>\n",
       "</div>"
      ],
      "text/plain": [
       "Empty DataFrame\n",
       "Columns: []\n",
       "Index: []"
      ]
     },
     "execution_count": 25,
     "metadata": {},
     "output_type": "execute_result"
    }
   ],
   "source": [
    "met_targets.compare(trans_targets)"
   ]
  },
  {
   "cell_type": "markdown",
   "id": "d7e47e60",
   "metadata": {},
   "source": [
    "Since all are equal, export one target dataframe for later use"
   ]
  },
  {
   "cell_type": "code",
   "execution_count": 26,
   "id": "ed5f5a1c",
   "metadata": {},
   "outputs": [],
   "source": [
    "prot_targets.to_csv(\"../datasets/STATegra/export/targets.csv\")"
   ]
  }
 ],
 "metadata": {
  "kernelspec": {
   "display_name": ".conda",
   "language": "python",
   "name": "python3"
  },
  "language_info": {
   "codemirror_mode": {
    "name": "ipython",
    "version": 3
   },
   "file_extension": ".py",
   "mimetype": "text/x-python",
   "name": "python",
   "nbconvert_exporter": "python",
   "pygments_lexer": "ipython3",
   "version": "3.11.13"
  }
 },
 "nbformat": 4,
 "nbformat_minor": 5
}
